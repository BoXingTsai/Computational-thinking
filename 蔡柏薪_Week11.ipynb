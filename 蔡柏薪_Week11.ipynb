{
  "nbformat": 4,
  "nbformat_minor": 0,
  "metadata": {
    "colab": {
      "name": "蔡柏薪-Week11.ipynb",
      "provenance": [],
      "authorship_tag": "ABX9TyP2l/cS5UyebekCtWsPLrMA",
      "include_colab_link": true
    },
    "kernelspec": {
      "name": "python3",
      "display_name": "Python 3"
    }
  },
  "cells": [
    {
      "cell_type": "markdown",
      "metadata": {
        "id": "view-in-github",
        "colab_type": "text"
      },
      "source": [
        "<a href=\"https://colab.research.google.com/github/BoXingTsai/Computational-thinking/blob/master/%E8%94%A1%E6%9F%8F%E8%96%AA_Week11.ipynb\" target=\"_parent\"><img src=\"https://colab.research.google.com/assets/colab-badge.svg\" alt=\"Open In Colab\"/></a>"
      ]
    },
    {
      "cell_type": "markdown",
      "metadata": {
        "id": "M4YPP1BCoCs7"
      },
      "source": [
        "# 習題解答:分組報告\n",
        "\n"
      ]
    },
    {
      "cell_type": "code",
      "metadata": {
        "colab": {
          "base_uri": "https://localhost:8080/"
        },
        "id": "Tg8UsPnLoIjr",
        "outputId": "8ed59bac-8029-4392-cabd-dc91084298a0"
      },
      "source": [
        "#  方法(一):商數\n",
        "##  Input\n",
        "number = input(\"Enter your seat number?\" )\n",
        "number = int(number)\n",
        "## Process\n",
        "group = (number - 1) // 5\n",
        "## Output\n",
        "print(\"Group is\", group)"
      ],
      "execution_count": 5,
      "outputs": [
        {
          "output_type": "stream",
          "text": [
            "Enter your seat number?19\n",
            "Group is 3\n"
          ],
          "name": "stdout"
        }
      ]
    },
    {
      "cell_type": "code",
      "metadata": {
        "colab": {
          "base_uri": "https://localhost:8080/"
        },
        "id": "N1eWGyAEvfwj",
        "outputId": "09fad587-2e15-4de4-a1a0-296b578a74a2"
      },
      "source": [
        "number = input(\"Enter your seat number?\" )\n",
        "number = int(number)\n",
        "group = (number - 1) // 5 + 1\n",
        "print(\"Group is\", group)"
      ],
      "execution_count": 7,
      "outputs": [
        {
          "output_type": "stream",
          "text": [
            "Enter your seat number?19\n",
            "Group is 4\n"
          ],
          "name": "stdout"
        }
      ]
    }
  ]
}